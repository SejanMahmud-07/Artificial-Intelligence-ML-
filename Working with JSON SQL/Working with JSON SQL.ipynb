{
 "cells": [
  {
   "cell_type": "code",
   "execution_count": 3,
   "metadata": {
    "collapsed": true
   },
   "outputs": [],
   "source": [
    "import pandas as pd\n",
    "\n"
   ]
  },
  {
   "cell_type": "markdown",
   "source": [
    "# working with json file"
   ],
   "metadata": {
    "collapsed": false
   }
  },
  {
   "cell_type": "code",
   "execution_count": 5,
   "outputs": [
    {
     "data": {
      "text/plain": "          id      cuisine                                        ingredients\n0      10259        greek  [romaine lettuce, black olives, grape tomatoes...\n1      25693  southern_us  [plain flour, ground pepper, salt, tomatoes, g...\n2      20130     filipino  [eggs, pepper, salt, mayonaise, cooking oil, g...\n3      22213       indian                [water, vegetable oil, wheat, salt]\n4      13162       indian  [black pepper, shallots, cornflour, cayenne pe...\n...      ...          ...                                                ...\n39769  29109        irish  [light brown sugar, granulated sugar, butter, ...\n39770  11462      italian  [KRAFT Zesty Italian Dressing, purple onion, b...\n39771   2238        irish  [eggs, citrus fruit, raisins, sourdough starte...\n39772  41882      chinese  [boneless chicken skinless thigh, minced garli...\n39773   2362      mexican  [green chile, jalapeno chilies, onions, ground...\n\n[39774 rows x 3 columns]",
      "text/html": "<div>\n<style scoped>\n    .dataframe tbody tr th:only-of-type {\n        vertical-align: middle;\n    }\n\n    .dataframe tbody tr th {\n        vertical-align: top;\n    }\n\n    .dataframe thead th {\n        text-align: right;\n    }\n</style>\n<table border=\"1\" class=\"dataframe\">\n  <thead>\n    <tr style=\"text-align: right;\">\n      <th></th>\n      <th>id</th>\n      <th>cuisine</th>\n      <th>ingredients</th>\n    </tr>\n  </thead>\n  <tbody>\n    <tr>\n      <th>0</th>\n      <td>10259</td>\n      <td>greek</td>\n      <td>[romaine lettuce, black olives, grape tomatoes...</td>\n    </tr>\n    <tr>\n      <th>1</th>\n      <td>25693</td>\n      <td>southern_us</td>\n      <td>[plain flour, ground pepper, salt, tomatoes, g...</td>\n    </tr>\n    <tr>\n      <th>2</th>\n      <td>20130</td>\n      <td>filipino</td>\n      <td>[eggs, pepper, salt, mayonaise, cooking oil, g...</td>\n    </tr>\n    <tr>\n      <th>3</th>\n      <td>22213</td>\n      <td>indian</td>\n      <td>[water, vegetable oil, wheat, salt]</td>\n    </tr>\n    <tr>\n      <th>4</th>\n      <td>13162</td>\n      <td>indian</td>\n      <td>[black pepper, shallots, cornflour, cayenne pe...</td>\n    </tr>\n    <tr>\n      <th>...</th>\n      <td>...</td>\n      <td>...</td>\n      <td>...</td>\n    </tr>\n    <tr>\n      <th>39769</th>\n      <td>29109</td>\n      <td>irish</td>\n      <td>[light brown sugar, granulated sugar, butter, ...</td>\n    </tr>\n    <tr>\n      <th>39770</th>\n      <td>11462</td>\n      <td>italian</td>\n      <td>[KRAFT Zesty Italian Dressing, purple onion, b...</td>\n    </tr>\n    <tr>\n      <th>39771</th>\n      <td>2238</td>\n      <td>irish</td>\n      <td>[eggs, citrus fruit, raisins, sourdough starte...</td>\n    </tr>\n    <tr>\n      <th>39772</th>\n      <td>41882</td>\n      <td>chinese</td>\n      <td>[boneless chicken skinless thigh, minced garli...</td>\n    </tr>\n    <tr>\n      <th>39773</th>\n      <td>2362</td>\n      <td>mexican</td>\n      <td>[green chile, jalapeno chilies, onions, ground...</td>\n    </tr>\n  </tbody>\n</table>\n<p>39774 rows × 3 columns</p>\n</div>"
     },
     "execution_count": 5,
     "metadata": {},
     "output_type": "execute_result"
    }
   ],
   "source": [
    "#Reading a jason file\n",
    "pd.read_json('train.json')"
   ],
   "metadata": {
    "collapsed": false
   }
  },
  {
   "cell_type": "markdown",
   "source": [
    "# reading a jason file from url"
   ],
   "metadata": {
    "collapsed": false
   }
  },
  {
   "cell_type": "code",
   "execution_count": 8,
   "outputs": [
    {
     "data": {
      "text/plain": "                             provider  \\\nAED  https://www.exchangerate-api.com   \nAFN  https://www.exchangerate-api.com   \nALL  https://www.exchangerate-api.com   \nAMD  https://www.exchangerate-api.com   \nANG  https://www.exchangerate-api.com   \n..                                ...   \nXPF  https://www.exchangerate-api.com   \nYER  https://www.exchangerate-api.com   \nZAR  https://www.exchangerate-api.com   \nZMW  https://www.exchangerate-api.com   \nZWL  https://www.exchangerate-api.com   \n\n                          WARNING_UPGRADE_TO_V6  \\\nAED  https://www.exchangerate-api.com/docs/free   \nAFN  https://www.exchangerate-api.com/docs/free   \nALL  https://www.exchangerate-api.com/docs/free   \nAMD  https://www.exchangerate-api.com/docs/free   \nANG  https://www.exchangerate-api.com/docs/free   \n..                                          ...   \nXPF  https://www.exchangerate-api.com/docs/free   \nYER  https://www.exchangerate-api.com/docs/free   \nZAR  https://www.exchangerate-api.com/docs/free   \nZMW  https://www.exchangerate-api.com/docs/free   \nZWL  https://www.exchangerate-api.com/docs/free   \n\n                                      terms base       date  \\\nAED  https://www.exchangerate-api.com/terms  INR 2023-04-07   \nAFN  https://www.exchangerate-api.com/terms  INR 2023-04-07   \nALL  https://www.exchangerate-api.com/terms  INR 2023-04-07   \nAMD  https://www.exchangerate-api.com/terms  INR 2023-04-07   \nANG  https://www.exchangerate-api.com/terms  INR 2023-04-07   \n..                                      ...  ...        ...   \nXPF  https://www.exchangerate-api.com/terms  INR 2023-04-07   \nYER  https://www.exchangerate-api.com/terms  INR 2023-04-07   \nZAR  https://www.exchangerate-api.com/terms  INR 2023-04-07   \nZMW  https://www.exchangerate-api.com/terms  INR 2023-04-07   \nZWL  https://www.exchangerate-api.com/terms  INR 2023-04-07   \n\n     time_last_updated    rates  \nAED         1680825601   0.0448  \nAFN         1680825601   1.0600  \nALL         1680825601   1.2700  \nAMD         1680825601   4.7400  \nANG         1680825601   0.0219  \n..                 ...      ...  \nXPF         1680825601   1.3400  \nYER         1680825601   3.0600  \nZAR         1680825601   0.2230  \nZMW         1680825601   0.2400  \nZWL         1680825601  11.5700  \n\n[162 rows x 7 columns]",
      "text/html": "<div>\n<style scoped>\n    .dataframe tbody tr th:only-of-type {\n        vertical-align: middle;\n    }\n\n    .dataframe tbody tr th {\n        vertical-align: top;\n    }\n\n    .dataframe thead th {\n        text-align: right;\n    }\n</style>\n<table border=\"1\" class=\"dataframe\">\n  <thead>\n    <tr style=\"text-align: right;\">\n      <th></th>\n      <th>provider</th>\n      <th>WARNING_UPGRADE_TO_V6</th>\n      <th>terms</th>\n      <th>base</th>\n      <th>date</th>\n      <th>time_last_updated</th>\n      <th>rates</th>\n    </tr>\n  </thead>\n  <tbody>\n    <tr>\n      <th>AED</th>\n      <td>https://www.exchangerate-api.com</td>\n      <td>https://www.exchangerate-api.com/docs/free</td>\n      <td>https://www.exchangerate-api.com/terms</td>\n      <td>INR</td>\n      <td>2023-04-07</td>\n      <td>1680825601</td>\n      <td>0.0448</td>\n    </tr>\n    <tr>\n      <th>AFN</th>\n      <td>https://www.exchangerate-api.com</td>\n      <td>https://www.exchangerate-api.com/docs/free</td>\n      <td>https://www.exchangerate-api.com/terms</td>\n      <td>INR</td>\n      <td>2023-04-07</td>\n      <td>1680825601</td>\n      <td>1.0600</td>\n    </tr>\n    <tr>\n      <th>ALL</th>\n      <td>https://www.exchangerate-api.com</td>\n      <td>https://www.exchangerate-api.com/docs/free</td>\n      <td>https://www.exchangerate-api.com/terms</td>\n      <td>INR</td>\n      <td>2023-04-07</td>\n      <td>1680825601</td>\n      <td>1.2700</td>\n    </tr>\n    <tr>\n      <th>AMD</th>\n      <td>https://www.exchangerate-api.com</td>\n      <td>https://www.exchangerate-api.com/docs/free</td>\n      <td>https://www.exchangerate-api.com/terms</td>\n      <td>INR</td>\n      <td>2023-04-07</td>\n      <td>1680825601</td>\n      <td>4.7400</td>\n    </tr>\n    <tr>\n      <th>ANG</th>\n      <td>https://www.exchangerate-api.com</td>\n      <td>https://www.exchangerate-api.com/docs/free</td>\n      <td>https://www.exchangerate-api.com/terms</td>\n      <td>INR</td>\n      <td>2023-04-07</td>\n      <td>1680825601</td>\n      <td>0.0219</td>\n    </tr>\n    <tr>\n      <th>...</th>\n      <td>...</td>\n      <td>...</td>\n      <td>...</td>\n      <td>...</td>\n      <td>...</td>\n      <td>...</td>\n      <td>...</td>\n    </tr>\n    <tr>\n      <th>XPF</th>\n      <td>https://www.exchangerate-api.com</td>\n      <td>https://www.exchangerate-api.com/docs/free</td>\n      <td>https://www.exchangerate-api.com/terms</td>\n      <td>INR</td>\n      <td>2023-04-07</td>\n      <td>1680825601</td>\n      <td>1.3400</td>\n    </tr>\n    <tr>\n      <th>YER</th>\n      <td>https://www.exchangerate-api.com</td>\n      <td>https://www.exchangerate-api.com/docs/free</td>\n      <td>https://www.exchangerate-api.com/terms</td>\n      <td>INR</td>\n      <td>2023-04-07</td>\n      <td>1680825601</td>\n      <td>3.0600</td>\n    </tr>\n    <tr>\n      <th>ZAR</th>\n      <td>https://www.exchangerate-api.com</td>\n      <td>https://www.exchangerate-api.com/docs/free</td>\n      <td>https://www.exchangerate-api.com/terms</td>\n      <td>INR</td>\n      <td>2023-04-07</td>\n      <td>1680825601</td>\n      <td>0.2230</td>\n    </tr>\n    <tr>\n      <th>ZMW</th>\n      <td>https://www.exchangerate-api.com</td>\n      <td>https://www.exchangerate-api.com/docs/free</td>\n      <td>https://www.exchangerate-api.com/terms</td>\n      <td>INR</td>\n      <td>2023-04-07</td>\n      <td>1680825601</td>\n      <td>0.2400</td>\n    </tr>\n    <tr>\n      <th>ZWL</th>\n      <td>https://www.exchangerate-api.com</td>\n      <td>https://www.exchangerate-api.com/docs/free</td>\n      <td>https://www.exchangerate-api.com/terms</td>\n      <td>INR</td>\n      <td>2023-04-07</td>\n      <td>1680825601</td>\n      <td>11.5700</td>\n    </tr>\n  </tbody>\n</table>\n<p>162 rows × 7 columns</p>\n</div>"
     },
     "execution_count": 8,
     "metadata": {},
     "output_type": "execute_result"
    }
   ],
   "source": [
    "pd.read_json('https://api.exchangerate-api.com/v4/latest/INR')"
   ],
   "metadata": {
    "collapsed": false
   }
  },
  {
   "cell_type": "markdown",
   "source": [
    "# working with sql\n",
    "    1.Download world dataset : https://www.kaggle.com/datasets/busielmorley/worldcities-pop-lang-rank-sql-create-tbls?select=world.sql\n",
    "\n",
    "    2. Download and install xamp\n",
    "    3.creare a database in xammp called world\n",
    "    4.import te world dataset"
   ],
   "metadata": {
    "collapsed": false
   }
  },
  {
   "cell_type": "markdown",
   "source": [
    "# Install mysql in pycharm"
   ],
   "metadata": {
    "collapsed": false
   }
  },
  {
   "cell_type": "code",
   "execution_count": 4,
   "outputs": [
    {
     "name": "stdout",
     "output_type": "stream",
     "text": [
      "Requirement already satisfied: mysql.connector in c:\\users\\hp\\appdata\\local\\programs\\python\\python310\\lib\\site-packages (2.2.9)\n"
     ]
    }
   ],
   "source": [
    "!pip install mysql.connector\n"
   ],
   "metadata": {
    "collapsed": false
   }
  },
  {
   "cell_type": "markdown",
   "source": [],
   "metadata": {
    "collapsed": false
   }
  },
  {
   "cell_type": "markdown",
   "source": [
    "import mysql.connector"
   ],
   "metadata": {
    "collapsed": false
   }
  },
  {
   "cell_type": "code",
   "execution_count": 5,
   "outputs": [],
   "source": [
    "import mysql.connector"
   ],
   "metadata": {
    "collapsed": false
   }
  },
  {
   "cell_type": "markdown",
   "source": [
    "create a connection between sql and pycharm.\n",
    "    ater writting below code it will provide the connector.\n",
    "\n",
    "    \"<mysql.connector.connection.MySQLConnection at 0x22497085330>\""
   ],
   "metadata": {
    "collapsed": false
   }
  },
  {
   "cell_type": "code",
   "execution_count": 7,
   "outputs": [
    {
     "data": {
      "text/plain": "<mysql.connector.connection.MySQLConnection at 0x22497086890>"
     },
     "execution_count": 7,
     "metadata": {},
     "output_type": "execute_result"
    }
   ],
   "source": [
    "mysql.connector.connect(host='localhost',user='root',password='',database='world')"
   ],
   "metadata": {
    "collapsed": false
   }
  },
  {
   "cell_type": "markdown",
   "source": [
    "Now we put the connector in a variable called conn"
   ],
   "metadata": {
    "collapsed": false
   }
  },
  {
   "cell_type": "code",
   "execution_count": 9,
   "outputs": [],
   "source": [
    "conn = mysql.connector.connect(host='localhost',user='root',password='',database='world')"
   ],
   "metadata": {
    "collapsed": false
   }
  },
  {
   "cell_type": "markdown",
   "source": [
    "Now i can access data from sql file\n",
    "    for example i want to fetch all the data from city table. lets do it"
   ],
   "metadata": {
    "collapsed": false
   }
  },
  {
   "cell_type": "code",
   "execution_count": 13,
   "outputs": [
    {
     "name": "stderr",
     "output_type": "stream",
     "text": [
      "C:\\Users\\hp\\AppData\\Local\\Temp\\ipykernel_10476\\4151876804.py:1: UserWarning: pandas only supports SQLAlchemy connectable (engine/connection) or database string URI or sqlite3 DBAPI2 connection. Other DBAPI2 objects are not tested. Please consider using SQLAlchemy.\n",
      "  pd.read_sql_query(\"SELECT * FROM city \",conn)\n"
     ]
    },
    {
     "data": {
      "text/plain": "        ID            Name CountryCode       District  Population\n0        1           Kabul         AFG          Kabol     1780000\n1        2        Qandahar         AFG       Qandahar      237500\n2        3           Herat         AFG          Herat      186800\n3        4  Mazar-e-Sharif         AFG          Balkh      127800\n4        5       Amsterdam         NLD  Noord-Holland      731200\n...    ...             ...         ...            ...         ...\n4074  4075      Khan Yunis         PSE     Khan Yunis      123175\n4075  4076          Hebron         PSE         Hebron      119401\n4076  4077        Jabaliya         PSE     North Gaza      113901\n4077  4078          Nablus         PSE         Nablus      100231\n4078  4079           Rafah         PSE          Rafah       92020\n\n[4079 rows x 5 columns]",
      "text/html": "<div>\n<style scoped>\n    .dataframe tbody tr th:only-of-type {\n        vertical-align: middle;\n    }\n\n    .dataframe tbody tr th {\n        vertical-align: top;\n    }\n\n    .dataframe thead th {\n        text-align: right;\n    }\n</style>\n<table border=\"1\" class=\"dataframe\">\n  <thead>\n    <tr style=\"text-align: right;\">\n      <th></th>\n      <th>ID</th>\n      <th>Name</th>\n      <th>CountryCode</th>\n      <th>District</th>\n      <th>Population</th>\n    </tr>\n  </thead>\n  <tbody>\n    <tr>\n      <th>0</th>\n      <td>1</td>\n      <td>Kabul</td>\n      <td>AFG</td>\n      <td>Kabol</td>\n      <td>1780000</td>\n    </tr>\n    <tr>\n      <th>1</th>\n      <td>2</td>\n      <td>Qandahar</td>\n      <td>AFG</td>\n      <td>Qandahar</td>\n      <td>237500</td>\n    </tr>\n    <tr>\n      <th>2</th>\n      <td>3</td>\n      <td>Herat</td>\n      <td>AFG</td>\n      <td>Herat</td>\n      <td>186800</td>\n    </tr>\n    <tr>\n      <th>3</th>\n      <td>4</td>\n      <td>Mazar-e-Sharif</td>\n      <td>AFG</td>\n      <td>Balkh</td>\n      <td>127800</td>\n    </tr>\n    <tr>\n      <th>4</th>\n      <td>5</td>\n      <td>Amsterdam</td>\n      <td>NLD</td>\n      <td>Noord-Holland</td>\n      <td>731200</td>\n    </tr>\n    <tr>\n      <th>...</th>\n      <td>...</td>\n      <td>...</td>\n      <td>...</td>\n      <td>...</td>\n      <td>...</td>\n    </tr>\n    <tr>\n      <th>4074</th>\n      <td>4075</td>\n      <td>Khan Yunis</td>\n      <td>PSE</td>\n      <td>Khan Yunis</td>\n      <td>123175</td>\n    </tr>\n    <tr>\n      <th>4075</th>\n      <td>4076</td>\n      <td>Hebron</td>\n      <td>PSE</td>\n      <td>Hebron</td>\n      <td>119401</td>\n    </tr>\n    <tr>\n      <th>4076</th>\n      <td>4077</td>\n      <td>Jabaliya</td>\n      <td>PSE</td>\n      <td>North Gaza</td>\n      <td>113901</td>\n    </tr>\n    <tr>\n      <th>4077</th>\n      <td>4078</td>\n      <td>Nablus</td>\n      <td>PSE</td>\n      <td>Nablus</td>\n      <td>100231</td>\n    </tr>\n    <tr>\n      <th>4078</th>\n      <td>4079</td>\n      <td>Rafah</td>\n      <td>PSE</td>\n      <td>Rafah</td>\n      <td>92020</td>\n    </tr>\n  </tbody>\n</table>\n<p>4079 rows × 5 columns</p>\n</div>"
     },
     "execution_count": 13,
     "metadata": {},
     "output_type": "execute_result"
    }
   ],
   "source": [
    "pd.read_sql_query(\"SELECT * FROM city \",conn)"
   ],
   "metadata": {
    "collapsed": false
   }
  },
  {
   "cell_type": "markdown",
   "source": [
    "WE CAN USE CONDION WHICH ARE GENERALLY USED ON SQL"
   ],
   "metadata": {
    "collapsed": false
   }
  },
  {
   "cell_type": "code",
   "execution_count": 14,
   "outputs": [
    {
     "name": "stderr",
     "output_type": "stream",
     "text": [
      "C:\\Users\\hp\\AppData\\Local\\Temp\\ipykernel_10476\\3208970816.py:1: UserWarning: pandas only supports SQLAlchemy connectable (engine/connection) or database string URI or sqlite3 DBAPI2 connection. Other DBAPI2 objects are not tested. Please consider using SQLAlchemy.\n",
      "  pd.read_sql_query(\"select * from city where CountryCode like 'IND'\",conn)\n"
     ]
    },
    {
     "data": {
      "text/plain": "       ID                Name CountryCode        District  Population\n0    1024     Mumbai (Bombay)         IND     Maharashtra    10500000\n1    1025               Delhi         IND           Delhi     7206704\n2    1026  Calcutta [Kolkata]         IND    West Bengali     4399819\n3    1027    Chennai (Madras)         IND      Tamil Nadu     3841396\n4    1028           Hyderabad         IND  Andhra Pradesh     2964638\n..    ...                 ...         ...             ...         ...\n336  1360        Ambala Sadar         IND         Haryana       90712\n337  1361          Baidyabati         IND    West Bengali       90601\n338  1362               Morvi         IND         Gujarat       90357\n339  1363             Raigarh         IND     Chhatisgarh       89166\n340  1364            Vejalpur         IND         Gujarat       89053\n\n[341 rows x 5 columns]",
      "text/html": "<div>\n<style scoped>\n    .dataframe tbody tr th:only-of-type {\n        vertical-align: middle;\n    }\n\n    .dataframe tbody tr th {\n        vertical-align: top;\n    }\n\n    .dataframe thead th {\n        text-align: right;\n    }\n</style>\n<table border=\"1\" class=\"dataframe\">\n  <thead>\n    <tr style=\"text-align: right;\">\n      <th></th>\n      <th>ID</th>\n      <th>Name</th>\n      <th>CountryCode</th>\n      <th>District</th>\n      <th>Population</th>\n    </tr>\n  </thead>\n  <tbody>\n    <tr>\n      <th>0</th>\n      <td>1024</td>\n      <td>Mumbai (Bombay)</td>\n      <td>IND</td>\n      <td>Maharashtra</td>\n      <td>10500000</td>\n    </tr>\n    <tr>\n      <th>1</th>\n      <td>1025</td>\n      <td>Delhi</td>\n      <td>IND</td>\n      <td>Delhi</td>\n      <td>7206704</td>\n    </tr>\n    <tr>\n      <th>2</th>\n      <td>1026</td>\n      <td>Calcutta [Kolkata]</td>\n      <td>IND</td>\n      <td>West Bengali</td>\n      <td>4399819</td>\n    </tr>\n    <tr>\n      <th>3</th>\n      <td>1027</td>\n      <td>Chennai (Madras)</td>\n      <td>IND</td>\n      <td>Tamil Nadu</td>\n      <td>3841396</td>\n    </tr>\n    <tr>\n      <th>4</th>\n      <td>1028</td>\n      <td>Hyderabad</td>\n      <td>IND</td>\n      <td>Andhra Pradesh</td>\n      <td>2964638</td>\n    </tr>\n    <tr>\n      <th>...</th>\n      <td>...</td>\n      <td>...</td>\n      <td>...</td>\n      <td>...</td>\n      <td>...</td>\n    </tr>\n    <tr>\n      <th>336</th>\n      <td>1360</td>\n      <td>Ambala Sadar</td>\n      <td>IND</td>\n      <td>Haryana</td>\n      <td>90712</td>\n    </tr>\n    <tr>\n      <th>337</th>\n      <td>1361</td>\n      <td>Baidyabati</td>\n      <td>IND</td>\n      <td>West Bengali</td>\n      <td>90601</td>\n    </tr>\n    <tr>\n      <th>338</th>\n      <td>1362</td>\n      <td>Morvi</td>\n      <td>IND</td>\n      <td>Gujarat</td>\n      <td>90357</td>\n    </tr>\n    <tr>\n      <th>339</th>\n      <td>1363</td>\n      <td>Raigarh</td>\n      <td>IND</td>\n      <td>Chhatisgarh</td>\n      <td>89166</td>\n    </tr>\n    <tr>\n      <th>340</th>\n      <td>1364</td>\n      <td>Vejalpur</td>\n      <td>IND</td>\n      <td>Gujarat</td>\n      <td>89053</td>\n    </tr>\n  </tbody>\n</table>\n<p>341 rows × 5 columns</p>\n</div>"
     },
     "execution_count": 14,
     "metadata": {},
     "output_type": "execute_result"
    }
   ],
   "source": [
    "pd.read_sql_query(\"select * from city where CountryCode like 'IND'\",conn)"
   ],
   "metadata": {
    "collapsed": false
   }
  }
 ],
 "metadata": {
  "kernelspec": {
   "display_name": "Python 3",
   "language": "python",
   "name": "python3"
  },
  "language_info": {
   "codemirror_mode": {
    "name": "ipython",
    "version": 2
   },
   "file_extension": ".py",
   "mimetype": "text/x-python",
   "name": "python",
   "nbconvert_exporter": "python",
   "pygments_lexer": "ipython2",
   "version": "2.7.6"
  }
 },
 "nbformat": 4,
 "nbformat_minor": 0
}
