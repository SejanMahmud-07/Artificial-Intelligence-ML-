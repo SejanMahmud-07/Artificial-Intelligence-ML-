{
 "cells": [
  {
   "cell_type": "markdown",
   "source": [
    "# Today we will learn how to Fetch dada from an API\n",
    "\n",
    "TMDB API : https://developers.themoviedb.org/\n",
    "RapidAPI : https://rapidapi.com/collection/list-...\n",
    "JSON Viewer: http://jsonviewer.stack.hu/"
   ],
   "metadata": {
    "collapsed": false
   }
  },
  {
   "cell_type": "markdown",
   "source": [
    "# import libraies"
   ],
   "metadata": {
    "collapsed": false
   }
  },
  {
   "cell_type": "code",
   "execution_count": 8,
   "outputs": [],
   "source": [
    "import pandas as pd\n",
    "import requests"
   ],
   "metadata": {
    "collapsed": false
   }
  },
  {
   "cell_type": "markdown",
   "source": [
    "# go to TMDB api\n",
    "find your exact api\n",
    "go to try it out\n",
    "collect the link\n",
    "go to that link\n",
    "put the api key\n",
    "Then it will give you this data in the form of jason file\n",
    "\n",
    "jason : https://api.themoviedb.org/3/movie/top_rated?api_key=f0d6bf4901c281449474fc00293cf670&language=en-US&page=1"
   ],
   "metadata": {
    "collapsed": false
   }
  },
  {
   "cell_type": "markdown",
   "source": [
    "# Jason data view\n",
    "there are tools to view jason ndata\n",
    "JSON Viewer: http://jsonviewer.stack.hu/\n",
    "\n",
    "copy the data and paste it into json viewer\n",
    "\n",
    "we can view the data in jason viewr\n",
    "\n",
    "now we will create our own database with those data with our required row and columns\n",
    "\n",
    "\n",
    "we will use columns:\n",
    "    id\n",
    "    title\n",
    "    relese_date\n",
    "    overview\n",
    "    popularity\n",
    "    vote_average\n",
    "    vote_count\n",
    "\n",
    "\n"
   ],
   "metadata": {
    "collapsed": false
   }
  },
  {
   "cell_type": "markdown",
   "source": [
    "# Now we will get data using request.get()"
   ],
   "metadata": {
    "collapsed": false
   }
  },
  {
   "cell_type": "code",
   "execution_count": 9,
   "outputs": [],
   "source": [
    "response = requests.get('https://api.themoviedb.org/3/movie/top_rated?api_key=f0d6bf4901c281449474fc00293cf670&language=en-US&page=1')"
   ],
   "metadata": {
    "collapsed": false
   }
  },
  {
   "cell_type": "markdown",
   "source": [
    "response 200 means ,\n",
    "everything is alright\n",
    "data is coming from the  api"
   ],
   "metadata": {
    "collapsed": false
   }
  },
  {
   "cell_type": "markdown",
   "source": [
    "# Now convert the data into json format"
   ],
   "metadata": {
    "collapsed": false
   }
  },
  {
   "cell_type": "code",
   "execution_count": 11,
   "outputs": [
    {
     "data": {
      "text/plain": "{'page': 1,\n 'results': [{'adult': False,\n   'backdrop_path': '/tmU7GeKVybMWFButWEGl2M4GeiP.jpg',\n   'genre_ids': [18, 80],\n   'id': 238,\n   'original_language': 'en',\n   'original_title': 'The Godfather',\n   'overview': 'Spanning the years 1945 to 1955, a chronicle of the fictional Italian-American Corleone crime family. When organized crime family patriarch, Vito Corleone barely survives an attempt on his life, his youngest son, Michael steps in to take care of the would-be killers, launching a campaign of bloody revenge.',\n   'popularity': 107.23,\n   'poster_path': '/3bhkrj58Vtu7enYsRolD1fZdja1.jpg',\n   'release_date': '1972-03-14',\n   'title': 'The Godfather',\n   'video': False,\n   'vote_average': 8.7,\n   'vote_count': 17725},\n  {'adult': False,\n   'backdrop_path': '/iNh3BivHyg5sQRPP1KOkzguEX0H.jpg',\n   'genre_ids': [18, 80],\n   'id': 278,\n   'original_language': 'en',\n   'original_title': 'The Shawshank Redemption',\n   'overview': 'Framed in the 1940s for the double murder of his wife and her lover, upstanding banker Andy Dufresne begins a new life at the Shawshank prison, where he puts his accounting skills to work for an amoral warden. During his long stretch in prison, Dufresne comes to be admired by the other inmates -- including an older prisoner named Red -- for his integrity and unquenchable sense of hope.',\n   'popularity': 104.163,\n   'poster_path': '/q6y0Go1tsGEsmtFryDOJo3dEmqu.jpg',\n   'release_date': '1994-09-23',\n   'title': 'The Shawshank Redemption',\n   'video': False,\n   'vote_average': 8.7,\n   'vote_count': 23577},\n  {'adult': False,\n   'backdrop_path': '/ejniJnlOdtSgtbh8D7u2RxT6Uli.jpg',\n   'genre_ids': [35, 14],\n   'id': 772071,\n   'original_language': 'es',\n   'original_title': 'Cuando Sea Joven',\n   'overview': '70-year-old Malena gets a second chance at life when she magically turns into her 22-year-old self. Now, posing as \"Maria\" to hide her true identity, she becomes the lead singer of her grandson\\'s band and tries to recover her dream of singing, which she had to give up at some point.',\n   'popularity': 35.355,\n   'poster_path': '/6gIJuFHh5Lj4dNaPG3TzIMl7L68.jpg',\n   'release_date': '2022-09-14',\n   'title': 'Cuando Sea Joven',\n   'video': False,\n   'vote_average': 8.6,\n   'vote_count': 213},\n  {'adult': False,\n   'backdrop_path': '/kGzFbGhp99zva6oZODW5atUtnqi.jpg',\n   'genre_ids': [18, 80],\n   'id': 240,\n   'original_language': 'en',\n   'original_title': 'The Godfather Part II',\n   'overview': 'In the continuing saga of the Corleone crime family, a young Vito Corleone grows up in Sicily and in 1910s New York. In the 1950s, Michael Corleone attempts to expand the family business into Las Vegas, Hollywood and Cuba.',\n   'popularity': 60.774,\n   'poster_path': '/hek3koDUyRQk7FIhPXsa6mT2Zc3.jpg',\n   'release_date': '1974-12-20',\n   'title': 'The Godfather Part II',\n   'video': False,\n   'vote_average': 8.6,\n   'vote_count': 10734},\n  {'adult': False,\n   'backdrop_path': '/zb6fM1CX41D9rF9hdgclu0peUmy.jpg',\n   'genre_ids': [18, 36, 10752],\n   'id': 424,\n   'original_language': 'en',\n   'original_title': \"Schindler's List\",\n   'overview': 'The true story of how businessman Oskar Schindler saved over a thousand Jewish lives from the Nazis while they worked as slaves in his factory during World War II.',\n   'popularity': 49.974,\n   'poster_path': '/sF1U4EUQS8YHUYjNl3pMGNIQyr0.jpg',\n   'release_date': '1993-12-15',\n   'title': \"Schindler's List\",\n   'video': False,\n   'vote_average': 8.6,\n   'vote_count': 13941},\n  {'adult': False,\n   'backdrop_path': '/vI3aUGTuRRdM7J78KIdW98LdxE5.jpg',\n   'genre_ids': [35, 18, 10749],\n   'id': 19404,\n   'original_language': 'hi',\n   'original_title': 'दिलवाले दुल्हनिया ले जायेंगे',\n   'overview': 'Raj is a rich, carefree, happy-go-lucky second generation NRI. Simran is the daughter of Chaudhary Baldev Singh, who in spite of being an NRI is very strict about adherence to Indian values. Simran has left for India to be married to her childhood fiancé. Raj leaves for India with a mission at his hands, to claim his lady love under the noses of her whole family. Thus begins a saga.',\n   'popularity': 25.089,\n   'poster_path': '/ktejodbcdCPXbMMdnpI9BUxW6O8.jpg',\n   'release_date': '1995-10-19',\n   'title': 'Dilwale Dulhania Le Jayenge',\n   'video': False,\n   'vote_average': 8.6,\n   'vote_count': 4097},\n  {'adult': False,\n   'backdrop_path': '/Ab8mkHmkYADjU7wQiOkia9BzGvS.jpg',\n   'genre_ids': [16, 10751, 14],\n   'id': 129,\n   'original_language': 'ja',\n   'original_title': '千と千尋の神隠し',\n   'overview': 'A young girl, Chihiro, becomes trapped in a strange new world of spirits. When her parents undergo a mysterious transformation, she must call upon the courage she never knew she had to free her family.',\n   'popularity': 98.499,\n   'poster_path': '/39wmItIWsg5sZMyRUHLkWBcuVCM.jpg',\n   'release_date': '2001-07-20',\n   'title': 'Spirited Away',\n   'video': False,\n   'vote_average': 8.5,\n   'vote_count': 14149},\n  {'adult': False,\n   'backdrop_path': '/tj6iPnz18hGfr0LKqWmG6Cp3niO.jpg',\n   'genre_ids': [18],\n   'id': 389,\n   'original_language': 'en',\n   'original_title': '12 Angry Men',\n   'overview': \"The defense and the prosecution have rested and the jury is filing into the jury room to decide if a young Spanish-American is guilty or innocent of murdering his father. What begins as an open and shut case soon becomes a mini-drama of each of the jurors' prejudices and preconceptions about the trial, the accused, and each other.\",\n   'popularity': 38.732,\n   'poster_path': '/ppd84D2i9W8jXmsyInGyihiSyqz.jpg',\n   'release_date': '1957-04-10',\n   'title': '12 Angry Men',\n   'video': False,\n   'vote_average': 8.5,\n   'vote_count': 7172},\n  {'adult': False,\n   'backdrop_path': '/dIWwZW7dJJtqC6CgWzYkNVKIUm8.jpg',\n   'genre_ids': [10749, 16, 18],\n   'id': 372058,\n   'original_language': 'ja',\n   'original_title': '君の名は。',\n   'overview': 'High schoolers Mitsuha and Taki are complete strangers living separate lives. But one night, they suddenly switch places. Mitsuha wakes up in Taki’s body, and he in hers. This bizarre occurrence continues to happen randomly, and the two must adjust their lives around each other.',\n   'popularity': 131.368,\n   'poster_path': '/q719jXXEzOoYaps6babgKnONONX.jpg',\n   'release_date': '2016-08-26',\n   'title': 'Your Name.',\n   'video': False,\n   'vote_average': 8.5,\n   'vote_count': 9675},\n  {'adult': False,\n   'backdrop_path': '/hiKmpZMGZsrkA3cdce8a7Dpos1j.jpg',\n   'genre_ids': [35, 53, 18],\n   'id': 496243,\n   'original_language': 'ko',\n   'original_title': '기생충',\n   'overview': \"All unemployed, Ki-taek's family takes peculiar interest in the wealthy and glamorous Parks for their livelihood until they get entangled in an unexpected incident.\",\n   'popularity': 84.581,\n   'poster_path': '/7IiTTgloJzvGI1TAYymCfbfl3vT.jpg',\n   'release_date': '2019-05-30',\n   'title': 'Parasite',\n   'video': False,\n   'vote_average': 8.5,\n   'vote_count': 15550},\n  {'adult': False,\n   'backdrop_path': '/dqK9Hag1054tghRQSqLSfrkvQnA.jpg',\n   'genre_ids': [18, 28, 80, 53],\n   'id': 155,\n   'original_language': 'en',\n   'original_title': 'The Dark Knight',\n   'overview': 'Batman raises the stakes in his war on crime. With the help of Lt. Jim Gordon and District Attorney Harvey Dent, Batman sets out to dismantle the remaining criminal organizations that plague the streets. The partnership proves to be effective, but they soon find themselves prey to a reign of chaos unleashed by a rising criminal mastermind known to the terrified citizens of Gotham as the Joker.',\n   'popularity': 84.701,\n   'poster_path': '/qJ2tW6WMUDux911r6m7haRef0WH.jpg',\n   'release_date': '2008-07-14',\n   'title': 'The Dark Knight',\n   'video': False,\n   'vote_average': 8.5,\n   'vote_count': 29493},\n  {'adult': False,\n   'backdrop_path': '/vxJ08SvwomfKbpboCWynC3uqUg4.jpg',\n   'genre_ids': [14, 18, 80],\n   'id': 497,\n   'original_language': 'en',\n   'original_title': 'The Green Mile',\n   'overview': \"A supernatural tale set on death row in a Southern prison, where gentle giant John Coffey possesses the mysterious power to heal people's ailments. When the cell block's head guard, Paul Edgecomb, recognizes Coffey's miraculous gift, he tries desperately to help stave off the condemned man's execution.\",\n   'popularity': 85.392,\n   'poster_path': '/o0lO84GI7qrG6XFvtsPOSV7CTNa.jpg',\n   'release_date': '1999-12-10',\n   'title': 'The Green Mile',\n   'video': False,\n   'vote_average': 8.5,\n   'vote_count': 15258},\n  {'adult': False,\n   'backdrop_path': '/suaEOtk1N1sgg2MTM7oZd2cfVp3.jpg',\n   'genre_ids': [53, 80],\n   'id': 680,\n   'original_language': 'en',\n   'original_title': 'Pulp Fiction',\n   'overview': \"A burger-loving hit man, his philosophical partner, a drug-addled gangster's moll and a washed-up boxer converge in this sprawling, comedic crime caper. Their adventures unfurl in three stories that ingeniously trip back and forth in time.\",\n   'popularity': 66.885,\n   'poster_path': '/d5iIlFn5s0ImszYzBPb8JPIfbXD.jpg',\n   'release_date': '1994-09-10',\n   'title': 'Pulp Fiction',\n   'video': False,\n   'vote_average': 8.5,\n   'vote_count': 24955},\n  {'adult': False,\n   'backdrop_path': '/wxaBkuqVIgImjRHEMJoxL9Lq6i8.jpg',\n   'genre_ids': [16, 10751, 12, 14],\n   'id': 995133,\n   'original_language': 'en',\n   'original_title': 'The Boy, the Mole, the Fox and the Horse',\n   'overview': 'The unlikely friendship of a boy, a mole, a fox and a horse traveling together in the boy’s search for home.',\n   'popularity': 25.886,\n   'poster_path': '/oQRgyQCzcyZvE6w5heM9ktVY0LT.jpg',\n   'release_date': '2022-12-25',\n   'title': 'The Boy, the Mole, the Fox and the Horse',\n   'video': False,\n   'vote_average': 8.5,\n   'vote_count': 299},\n  {'adult': False,\n   'backdrop_path': '/3h1JZGDhZ8nzxdgvkxha0qBqi05.jpg',\n   'genre_ids': [35, 18, 10749],\n   'id': 13,\n   'original_language': 'en',\n   'original_title': 'Forrest Gump',\n   'overview': 'A man with a low IQ has accomplished great things in his life and been present during significant historic events—in each case, far exceeding what anyone imagined he could do. But despite all he has achieved, his one true love eludes him.',\n   'popularity': 64.477,\n   'poster_path': '/arw2vcBveWOVZr6pxd9XTd1TdQa.jpg',\n   'release_date': '1994-06-23',\n   'title': 'Forrest Gump',\n   'video': False,\n   'vote_average': 8.5,\n   'vote_count': 24446},\n  {'adult': False,\n   'backdrop_path': '/eoCSp75lxatmIa6aGqfnzwtbttd.jpg',\n   'genre_ids': [37],\n   'id': 429,\n   'original_language': 'it',\n   'original_title': 'Il buono, il brutto, il cattivo',\n   'overview': 'While the Civil War rages on between the Union and the Confederacy, three men – a quiet loner, a ruthless hitman, and a Mexican bandit – comb the American Southwest in search of a strongbox containing $200,000 in stolen gold.',\n   'popularity': 57.174,\n   'poster_path': '/bX2xnavhMYjWDoZp1VM6VnU1xwe.jpg',\n   'release_date': '1966-12-23',\n   'title': 'The Good, the Bad and the Ugly',\n   'video': False,\n   'vote_average': 8.5,\n   'vote_count': 7315},\n  {'adult': False,\n   'backdrop_path': '/3RMLbSEXOn1CzLoNT7xFeLfdxhq.jpg',\n   'genre_ids': [10749, 16],\n   'id': 372754,\n   'original_language': 'ja',\n   'original_title': '同級生',\n   'overview': 'Rihito Sajo, an honor student with a perfect score on the entrance exam and Hikaru Kusakabe, in a band and popular among girls, would have never crossed paths. Until one day they started talking at the practice for their school’s upcoming chorus festival. After school, the two meet regularly, as Hikaru helps Rihito to improve his singing skills. While they listen to each other’s voice and harmonize, their hearts start to beat together.',\n   'popularity': 18.26,\n   'poster_path': '/cIfRCA5wEvj9tApca4UDUagQEiM.jpg',\n   'release_date': '2016-02-20',\n   'title': 'Dou kyu sei – Classmates',\n   'video': False,\n   'vote_average': 8.5,\n   'vote_count': 300},\n  {'adult': False,\n   'backdrop_path': '/9DeGfFIqjph5CBFVQrD6wv9S7rR.jpg',\n   'genre_ids': [12, 14, 28],\n   'id': 122,\n   'original_language': 'en',\n   'original_title': 'The Lord of the Rings: The Return of the King',\n   'overview': \"Aragorn is revealed as the heir to the ancient kings as he, Gandalf and the other members of the broken fellowship struggle to save Gondor from Sauron's forces. Meanwhile, Frodo and Sam take the ring closer to the heart of Mordor, the dark lord's realm.\",\n   'popularity': 86.295,\n   'poster_path': '/rCzpDGLbOoPwLjy3OAm5NUPOTrC.jpg',\n   'release_date': '2003-12-01',\n   'title': 'The Lord of the Rings: The Return of the King',\n   'video': False,\n   'vote_average': 8.5,\n   'vote_count': 21403},\n  {'adult': False,\n   'backdrop_path': '/uBZQOYZLIU9dBmd62fdzBAoropu.jpg',\n   'genre_ids': [28, 12, 16, 18],\n   'id': 704264,\n   'original_language': 'en',\n   'original_title': 'Primal: Tales of Savagery',\n   'overview': \"Genndy Tartakovsky's Primal: Tales of Savagery features a caveman and a dinosaur on the brink of extinction. Bonded by tragedy, this unlikely friendship becomes the only hope of survival.\",\n   'popularity': 18.596,\n   'poster_path': '/9NBBkdxH0TjQEBSN2AzeE1sgsF9.jpg',\n   'release_date': '2019-11-21',\n   'title': 'Primal: Tales of Savagery',\n   'video': False,\n   'vote_average': 8.5,\n   'vote_count': 262},\n  {'adult': False,\n   'backdrop_path': '/sw7mordbZxgITU877yTpZCud90M.jpg',\n   'genre_ids': [18, 80],\n   'id': 769,\n   'original_language': 'en',\n   'original_title': 'GoodFellas',\n   'overview': 'The true story of Henry Hill, a half-Irish, half-Sicilian Brooklyn kid who is adopted by neighbourhood gangsters at an early age and climbs the ranks of a Mafia family under the guidance of Jimmy Conway.',\n   'popularity': 56.563,\n   'poster_path': '/aKuFiU82s5ISJpGZp7YkIr3kCUd.jpg',\n   'release_date': '1990-09-12',\n   'title': 'GoodFellas',\n   'video': False,\n   'vote_average': 8.5,\n   'vote_count': 11155}],\n 'total_pages': 549,\n 'total_results': 10975}"
     },
     "execution_count": 11,
     "metadata": {},
     "output_type": "execute_result"
    }
   ],
   "source": [
    "response.json()"
   ],
   "metadata": {
    "collapsed": false
   }
  },
  {
   "cell_type": "markdown",
   "source": [
    "# Lets create a table using this jason data\n",
    "\n",
    "    we only need the result"
   ],
   "metadata": {
    "collapsed": false
   }
  },
  {
   "cell_type": "code",
   "execution_count": 14,
   "outputs": [
    {
     "data": {
      "text/plain": "   adult                     backdrop_path        genre_ids      id  \\\n0  False  /tmU7GeKVybMWFButWEGl2M4GeiP.jpg         [18, 80]     238   \n1  False  /iNh3BivHyg5sQRPP1KOkzguEX0H.jpg         [18, 80]     278   \n2  False  /ejniJnlOdtSgtbh8D7u2RxT6Uli.jpg         [35, 14]  772071   \n3  False  /kGzFbGhp99zva6oZODW5atUtnqi.jpg         [18, 80]     240   \n4  False  /zb6fM1CX41D9rF9hdgclu0peUmy.jpg  [18, 36, 10752]     424   \n\n  original_language            original_title  \\\n0                en             The Godfather   \n1                en  The Shawshank Redemption   \n2                es          Cuando Sea Joven   \n3                en     The Godfather Part II   \n4                en          Schindler's List   \n\n                                            overview  popularity  \\\n0  Spanning the years 1945 to 1955, a chronicle o...     107.230   \n1  Framed in the 1940s for the double murder of h...     104.163   \n2  70-year-old Malena gets a second chance at lif...      35.355   \n3  In the continuing saga of the Corleone crime f...      60.774   \n4  The true story of how businessman Oskar Schind...      49.974   \n\n                        poster_path release_date                     title  \\\n0  /3bhkrj58Vtu7enYsRolD1fZdja1.jpg   1972-03-14             The Godfather   \n1  /q6y0Go1tsGEsmtFryDOJo3dEmqu.jpg   1994-09-23  The Shawshank Redemption   \n2  /6gIJuFHh5Lj4dNaPG3TzIMl7L68.jpg   2022-09-14          Cuando Sea Joven   \n3  /hek3koDUyRQk7FIhPXsa6mT2Zc3.jpg   1974-12-20     The Godfather Part II   \n4  /sF1U4EUQS8YHUYjNl3pMGNIQyr0.jpg   1993-12-15          Schindler's List   \n\n   video  vote_average  vote_count  \n0  False           8.7       17725  \n1  False           8.7       23577  \n2  False           8.6         213  \n3  False           8.6       10734  \n4  False           8.6       13941  ",
      "text/html": "<div>\n<style scoped>\n    .dataframe tbody tr th:only-of-type {\n        vertical-align: middle;\n    }\n\n    .dataframe tbody tr th {\n        vertical-align: top;\n    }\n\n    .dataframe thead th {\n        text-align: right;\n    }\n</style>\n<table border=\"1\" class=\"dataframe\">\n  <thead>\n    <tr style=\"text-align: right;\">\n      <th></th>\n      <th>adult</th>\n      <th>backdrop_path</th>\n      <th>genre_ids</th>\n      <th>id</th>\n      <th>original_language</th>\n      <th>original_title</th>\n      <th>overview</th>\n      <th>popularity</th>\n      <th>poster_path</th>\n      <th>release_date</th>\n      <th>title</th>\n      <th>video</th>\n      <th>vote_average</th>\n      <th>vote_count</th>\n    </tr>\n  </thead>\n  <tbody>\n    <tr>\n      <th>0</th>\n      <td>False</td>\n      <td>/tmU7GeKVybMWFButWEGl2M4GeiP.jpg</td>\n      <td>[18, 80]</td>\n      <td>238</td>\n      <td>en</td>\n      <td>The Godfather</td>\n      <td>Spanning the years 1945 to 1955, a chronicle o...</td>\n      <td>107.230</td>\n      <td>/3bhkrj58Vtu7enYsRolD1fZdja1.jpg</td>\n      <td>1972-03-14</td>\n      <td>The Godfather</td>\n      <td>False</td>\n      <td>8.7</td>\n      <td>17725</td>\n    </tr>\n    <tr>\n      <th>1</th>\n      <td>False</td>\n      <td>/iNh3BivHyg5sQRPP1KOkzguEX0H.jpg</td>\n      <td>[18, 80]</td>\n      <td>278</td>\n      <td>en</td>\n      <td>The Shawshank Redemption</td>\n      <td>Framed in the 1940s for the double murder of h...</td>\n      <td>104.163</td>\n      <td>/q6y0Go1tsGEsmtFryDOJo3dEmqu.jpg</td>\n      <td>1994-09-23</td>\n      <td>The Shawshank Redemption</td>\n      <td>False</td>\n      <td>8.7</td>\n      <td>23577</td>\n    </tr>\n    <tr>\n      <th>2</th>\n      <td>False</td>\n      <td>/ejniJnlOdtSgtbh8D7u2RxT6Uli.jpg</td>\n      <td>[35, 14]</td>\n      <td>772071</td>\n      <td>es</td>\n      <td>Cuando Sea Joven</td>\n      <td>70-year-old Malena gets a second chance at lif...</td>\n      <td>35.355</td>\n      <td>/6gIJuFHh5Lj4dNaPG3TzIMl7L68.jpg</td>\n      <td>2022-09-14</td>\n      <td>Cuando Sea Joven</td>\n      <td>False</td>\n      <td>8.6</td>\n      <td>213</td>\n    </tr>\n    <tr>\n      <th>3</th>\n      <td>False</td>\n      <td>/kGzFbGhp99zva6oZODW5atUtnqi.jpg</td>\n      <td>[18, 80]</td>\n      <td>240</td>\n      <td>en</td>\n      <td>The Godfather Part II</td>\n      <td>In the continuing saga of the Corleone crime f...</td>\n      <td>60.774</td>\n      <td>/hek3koDUyRQk7FIhPXsa6mT2Zc3.jpg</td>\n      <td>1974-12-20</td>\n      <td>The Godfather Part II</td>\n      <td>False</td>\n      <td>8.6</td>\n      <td>10734</td>\n    </tr>\n    <tr>\n      <th>4</th>\n      <td>False</td>\n      <td>/zb6fM1CX41D9rF9hdgclu0peUmy.jpg</td>\n      <td>[18, 36, 10752]</td>\n      <td>424</td>\n      <td>en</td>\n      <td>Schindler's List</td>\n      <td>The true story of how businessman Oskar Schind...</td>\n      <td>49.974</td>\n      <td>/sF1U4EUQS8YHUYjNl3pMGNIQyr0.jpg</td>\n      <td>1993-12-15</td>\n      <td>Schindler's List</td>\n      <td>False</td>\n      <td>8.6</td>\n      <td>13941</td>\n    </tr>\n  </tbody>\n</table>\n</div>"
     },
     "execution_count": 14,
     "metadata": {},
     "output_type": "execute_result"
    }
   ],
   "source": [
    "pd.DataFrame(response.json()['results']).head()"
   ],
   "metadata": {
    "collapsed": false
   }
  },
  {
   "cell_type": "markdown",
   "source": [
    "# Now make a table with our chosen columns\n",
    "    e will use columns:\n",
    "    id\n",
    "    title\n",
    "    relese_date\n",
    "    overview\n",
    "    popularity\n",
    "    vote_average\n",
    "    vote_count"
   ],
   "metadata": {
    "collapsed": false
   }
  },
  {
   "cell_type": "code",
   "execution_count": 17,
   "outputs": [],
   "source": [
    "df = pd.DataFrame(response.json()['results'])[['id','title','overview','popularity']]"
   ],
   "metadata": {
    "collapsed": false
   }
  },
  {
   "cell_type": "code",
   "execution_count": 20,
   "outputs": [
    {
     "data": {
      "text/plain": "       id                     title  \\\n0     238             The Godfather   \n1     278  The Shawshank Redemption   \n2  772071          Cuando Sea Joven   \n3     240     The Godfather Part II   \n4     424          Schindler's List   \n\n                                            overview  popularity  \n0  Spanning the years 1945 to 1955, a chronicle o...     107.230  \n1  Framed in the 1940s for the double murder of h...     104.163  \n2  70-year-old Malena gets a second chance at lif...      35.355  \n3  In the continuing saga of the Corleone crime f...      60.774  \n4  The true story of how businessman Oskar Schind...      49.974  ",
      "text/html": "<div>\n<style scoped>\n    .dataframe tbody tr th:only-of-type {\n        vertical-align: middle;\n    }\n\n    .dataframe tbody tr th {\n        vertical-align: top;\n    }\n\n    .dataframe thead th {\n        text-align: right;\n    }\n</style>\n<table border=\"1\" class=\"dataframe\">\n  <thead>\n    <tr style=\"text-align: right;\">\n      <th></th>\n      <th>id</th>\n      <th>title</th>\n      <th>overview</th>\n      <th>popularity</th>\n    </tr>\n  </thead>\n  <tbody>\n    <tr>\n      <th>0</th>\n      <td>238</td>\n      <td>The Godfather</td>\n      <td>Spanning the years 1945 to 1955, a chronicle o...</td>\n      <td>107.230</td>\n    </tr>\n    <tr>\n      <th>1</th>\n      <td>278</td>\n      <td>The Shawshank Redemption</td>\n      <td>Framed in the 1940s for the double murder of h...</td>\n      <td>104.163</td>\n    </tr>\n    <tr>\n      <th>2</th>\n      <td>772071</td>\n      <td>Cuando Sea Joven</td>\n      <td>70-year-old Malena gets a second chance at lif...</td>\n      <td>35.355</td>\n    </tr>\n    <tr>\n      <th>3</th>\n      <td>240</td>\n      <td>The Godfather Part II</td>\n      <td>In the continuing saga of the Corleone crime f...</td>\n      <td>60.774</td>\n    </tr>\n    <tr>\n      <th>4</th>\n      <td>424</td>\n      <td>Schindler's List</td>\n      <td>The true story of how businessman Oskar Schind...</td>\n      <td>49.974</td>\n    </tr>\n  </tbody>\n</table>\n</div>"
     },
     "execution_count": 20,
     "metadata": {},
     "output_type": "execute_result"
    }
   ],
   "source": [
    "df.head()"
   ],
   "metadata": {
    "collapsed": false
   }
  },
  {
   "cell_type": "code",
   "execution_count": null,
   "outputs": [],
   "source": [],
   "metadata": {
    "collapsed": false
   }
  }
 ],
 "metadata": {
  "kernelspec": {
   "display_name": "Python 3",
   "language": "python",
   "name": "python3"
  },
  "language_info": {
   "codemirror_mode": {
    "name": "ipython",
    "version": 2
   },
   "file_extension": ".py",
   "mimetype": "text/x-python",
   "name": "python",
   "nbconvert_exporter": "python",
   "pygments_lexer": "ipython2",
   "version": "2.7.6"
  }
 },
 "nbformat": 4,
 "nbformat_minor": 0
}
